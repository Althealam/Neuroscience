{
 "cells": [
  {
   "cell_type": "code",
   "execution_count": 1,
   "id": "developmental-halifax",
   "metadata": {},
   "outputs": [],
   "source": [
    "import numpy as np\n",
    "import matplotlib.pyplot as plt\n",
    "%matplotlib inline\n",
    "\n",
    "plt.rcParams['figure.figsize'] = [3, 2]"
   ]
  },
  {
   "cell_type": "markdown",
   "id": "subject-nature",
   "metadata": {},
   "source": [
    "# Basics of differential equations"
   ]
  },
  {
   "cell_type": "markdown",
   "id": "81ee0861",
   "metadata": {},
   "source": [
    "## First-order linear differential equations"
   ]
  },
  {
   "cell_type": "markdown",
   "id": "562477f9",
   "metadata": {},
   "source": [
    "$$ \\tau \\frac{dx}{dt} = -x + \\alpha $$\n",
    "$$ \\frac{dx}{dt} = f(x) = \\frac{-x+\\alpha}{\\tau} $$"
   ]
  },
  {
   "cell_type": "markdown",
   "id": "47c07855",
   "metadata": {},
   "source": [
    "If $x=x_0$ at time $t=0$, then what is $x(t)$ at any time $t>0$?"
   ]
  },
  {
   "cell_type": "markdown",
   "id": "c01b9c21",
   "metadata": {},
   "source": [
    "Easy to check that the solution for $\\alpha=0$ is $ x(t) = x_0 \\exp(-t/\\tau)$."
   ]
  },
  {
   "cell_type": "markdown",
   "id": "3959dc71",
   "metadata": {},
   "source": [
    "For $\\alpha \\neq 0$, we can write $y(t) = x(t)-\\alpha$ which obeys $dy/dt = dx/dt = -y$ such that $y(t) = y_0 \\exp(-t/\\tau)$. Therefore,\n",
    "\n",
    "$$ x(t) = \\alpha + y(t) = \\alpha + (x_0 - \\alpha) \\exp(-t/\\tau) $$\n"
   ]
  },
  {
   "cell_type": "code",
   "execution_count": 2,
   "id": "a73ea7b9",
   "metadata": {},
   "outputs": [],
   "source": [
    "def solution(tau, alpha, x0, t):\n",
    "    return alpha + (x0-alpha)*np.exp(-t/tau)"
   ]
  },
  {
   "cell_type": "code",
   "execution_count": 6,
   "id": "bde4a979",
   "metadata": {},
   "outputs": [],
   "source": [
    "tau = 10 # in ms, say\n",
    "alpha = 1.5\n",
    "x0 = 2.5\n",
    "t0 = 0\n",
    "duration = 10\n",
    "t = np.linspace(t0, duration, 201)"
   ]
  },
  {
   "cell_type": "code",
   "execution_count": 9,
   "id": "7a1fff90",
   "metadata": {
    "scrolled": false
   },
   "outputs": [
    {
     "data": {
      "image/png": "[encoded data removed]",
      "text/plain": [
       "<Figure size 300x200 with 1 Axes>"
      ]
     },
     "metadata": {},
     "output_type": "display_data"
    }
   ],
   "source": [
    "_ = plt.plot(t, solution(tau, alpha, x0, t))\n",
    "_ = plt.plot(t, solution(3, alpha, x0, t))\n",
    "_ = plt.ylim(1.5,2.5)"
   ]
  },
  {
   "cell_type": "code",
   "execution_count": 10,
   "id": "024b1ad9",
   "metadata": {},
   "outputs": [],
   "source": [
    "def euler_integrate(f, x0, t0, duration, signal=None, dt=1e-2):\n",
    "    n_bins = int(duration/dt)\n",
    "    \n",
    "    # initialise our solution time array\n",
    "    x = np.zeros(n_bins)\n",
    "    # we will also store the time bins themselves, useful e.g. for plotting\n",
    "    t = np.zeros(n_bins)\n",
    "    \n",
    "    if signal is None:\n",
    "        u = np.zeros(n_bins)\n",
    "    else:\n",
    "        u = signal(n_bins)\n",
    "        \n",
    "    # set the initial value of x and t\n",
    "    t[0] = t0\n",
    "    x[0] = x0\n",
    "    \n",
    "    # progressively looping through time and integrating the solution:\n",
    "    for i in range(n_bins-1):\n",
    "        x[i+1] = x[i] + dt*(f(x[i]) + u[i])\n",
    "        t[i+1] = t[i] + dt\n",
    "    \n",
    "    return t, x, u"
   ]
  },
  {
   "cell_type": "code",
   "execution_count": 19,
   "id": "b6ba7069",
   "metadata": {},
   "outputs": [],
   "source": [
    "def f(x):\n",
    "    return (-x + alpha)/tau\n",
    "\n",
    "t_num, x_num, _ = euler_integrate(f, x0, t0, duration, dt=0.5)"
   ]
  },
  {
   "cell_type": "code",
   "execution_count": 20,
   "id": "fd91036c",
   "metadata": {},
   "outputs": [
    {
     "data": {
      "image/png": "[encoded data removed]",
      "text/plain": [
       "<Figure size 300x200 with 1 Axes>"
      ]
     },
     "metadata": {},
     "output_type": "display_data"
    }
   ],
   "source": [
    "plt.plot(t, solution(tau, alpha, x0, t))\n",
    "plt.plot(t_num, x_num, '.')\n",
    "plt.xlabel(\"time t (s)\")\n",
    "_ = plt.ylabel(\"x(t)\")"
   ]
  },
  {
   "cell_type": "markdown",
   "id": "72019e64",
   "metadata": {},
   "source": [
    "Consider now the case where $\\alpha$ is varies with time. "
   ]
  },
  {
   "cell_type": "code",
   "execution_count": null,
   "id": "1cb28ad5",
   "metadata": {},
   "outputs": [],
   "source": [
    "x0 = 0\n",
    "tau=1\n",
    "tau_input = 0.6\n",
    "\n",
    "def f(x):\n",
    "    return -x/tau\n",
    "\n",
    "# define a more complex input signal, which is random but continuous\n",
    "def random_signal(n_bins):\n",
    "    t = np.reshape(np.linspace(t0, duration, n_bins), (n_bins, 1))\n",
    "    z = t - t.T\n",
    "    c = np.exp(-np.abs(z)/tau_input)\n",
    "    u, s, _ = np.linalg.svd(c)\n",
    "    signal = (u * np.sqrt(s)) @ np.random.randn(n_bins, 1) / tau\n",
    "    return np.reshape(signal, (n_bins,))"
   ]
  },
  {
   "cell_type": "code",
   "execution_count": null,
   "id": "bb1b4a23",
   "metadata": {},
   "outputs": [],
   "source": [
    "r = random_signal(200)"
   ]
  },
  {
   "cell_type": "code",
   "execution_count": null,
   "id": "533da32b",
   "metadata": {},
   "outputs": [],
   "source": [
    "_ = plt.plot(t_num, r)"
   ]
  },
  {
   "cell_type": "code",
   "execution_count": null,
   "id": "10e95bf6",
   "metadata": {},
   "outputs": [],
   "source": [
    "t_num, x_num, u_num = euler_integrate(f, x0, t0, duration, signal=random_signal, dt=0.05)"
   ]
  },
  {
   "cell_type": "code",
   "execution_count": null,
   "id": "246a9d20",
   "metadata": {},
   "outputs": [],
   "source": [
    "plt.plot(t_num, u_num, '-k')\n",
    "plt.plot(t_num, x_num, '-')\n",
    "\n",
    "plt.xlabel(\"time t (s)\")\n",
    "plt.ylabel(\"x(t)\")"
   ]
  },
  {
   "cell_type": "markdown",
   "id": "08616341",
   "metadata": {},
   "source": [
    "The blue line (output of the dynamics, x(t)) follows the “slow trend” of the input signal (black line), with a bit of a phase lag. People in engineering say that x(t) is a “low-pass filtered version of u(t)”. In other words, the dynamics filter out the high frequency components of the input and only retain the low-frequency (= slow) components."
   ]
  }
 ],
 "metadata": {
  "kernelspec": {
   "display_name": "Python 3 (ipykernel)",
   "language": "python",
   "name": "python3"
  },
  "language_info": {
   "codemirror_mode": {
    "name": "ipython",
    "version": 3
   },
   "file_extension": ".py",
   "mimetype": "text/x-python",
   "name": "python",
   "nbconvert_exporter": "python",
   "pygments_lexer": "ipython3",
   "version": "3.11.2"
  }
 },
 "nbformat": 4,
 "nbformat_minor": 5
}
