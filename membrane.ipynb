{
 "cells": [
  {
   "cell_type": "code",
   "execution_count": 1,
   "id": "developmental-halifax",
   "metadata": {},
   "outputs": [],
   "source": [
    "import numpy as np\n",
    "import matplotlib.pyplot as plt\n",
    "%matplotlib inline\n",
    "\n",
    "\n",
    "plt.rcParams['figure.figsize'] = [3, 2]"
   ]
  },
  {
   "cell_type": "markdown",
   "id": "f89b64cb",
   "metadata": {},
   "source": [
    "Objective: verify that if each ion channel in a large population undergoes stochastic transitions between the open and the closed state, according to opening rate $\\alpha$ and closing rate $\\beta$ (per unit time), then the fraction $x(t)$ of open channels at any given time $t$ obeys the following dynamics:\n",
    "\n",
    "$$  \\tau \\frac{dx}{dt} = -x + x_\\infty $$\n",
    "\n",
    "where $\\tau = \\frac1{\\alpha+\\beta}$ and $x_\\infty = \\frac{\\alpha}{\\alpha + \\beta}$."
   ]
  },
  {
   "cell_type": "code",
   "execution_count": 8,
   "id": "965e0a08",
   "metadata": {},
   "outputs": [],
   "source": [
    "n = 10000 # very large number statistically identical ion channels in the membrane\n",
    "alpha = 0.9 # opening rate per unit time\n",
    "beta = 0.6 # closing rate per unit time\n",
    "dt = 1E-3 # 1us\n",
    "n_steps = 6000 # 6 ms"
   ]
  },
  {
   "cell_type": "code",
   "execution_count": 9,
   "id": "d4b05345",
   "metadata": {},
   "outputs": [],
   "source": [
    "channels = np.zeros((n, n_steps)) # we start with all channels closed"
   ]
  },
  {
   "cell_type": "code",
   "execution_count": 10,
   "id": "81211511",
   "metadata": {},
   "outputs": [],
   "source": [
    "x = np.zeros(n_steps) \n",
    "# this will keep track of the fraction of open channels within `channels`"
   ]
  },
  {
   "cell_type": "code",
   "execution_count": 11,
   "id": "5a2c171e",
   "metadata": {},
   "outputs": [],
   "source": [
    "# simulate the stochastic opening and closing of each individual channel\n",
    "for t in range(n_steps-1):\n",
    "    # extract current state of ion channels at time t\n",
    "    s = channels[:, t]\n",
    "    # probability of each channel being open in the next step, given s\n",
    "    # if open at t, then stays open at t+1 with probability (1-beta*dt)\n",
    "    # if closed at t, becomes open at t+1 with probability alpha*dt\n",
    "    p = (1-dt*beta)*s + alpha*dt*(1-s)\n",
    "    new_s = np.random.binomial(1, p)\n",
    "    channels[:, t+1] = new_s # flip a biased coin for each channel\n",
    "    x[t+1] = np.mean(new_s)"
   ]
  },
  {
   "cell_type": "code",
   "execution_count": 12,
   "id": "e3930550",
   "metadata": {},
   "outputs": [
    {
     "data": {
      "text/plain": [
       "Text(0, 0.5, 'Channel #id')"
      ]
     },
     "execution_count": 12,
     "metadata": {},
     "output_type": "execute_result"
    },
    {
     "data": {
      "image/png": "[encoded data removed]",
      "text/plain": [
       "<Figure size 300x200 with 1 Axes>"
      ]
     },
     "metadata": {},
     "output_type": "display_data"
    }
   ],
   "source": [
    "plt.imshow(channels[0:100, 0:2000], aspect='auto', interpolation='none')\n",
    "plt.xlabel(\"Time (us)\")\n",
    "plt.ylabel(\"Channel #id\")"
   ]
  },
  {
   "cell_type": "code",
   "execution_count": 13,
   "id": "214793e1",
   "metadata": {},
   "outputs": [
    {
     "data": {
      "text/plain": [
       "Text(0, 0.5, 'fraction open')"
      ]
     },
     "execution_count": 13,
     "metadata": {},
     "output_type": "execute_result"
    },
    {
     "data": {
      "image/png": "[encoded data removed]",
      "text/plain": [
       "<Figure size 300x200 with 1 Axes>"
      ]
     },
     "metadata": {},
     "output_type": "display_data"
    }
   ],
   "source": [
    "t = np.linspace(0, 6, n_steps)\n",
    "x_0 = 0\n",
    "x_inf = alpha/(alpha+beta)\n",
    "tau = 1/(alpha+beta)\n",
    "x_theory = x_inf + (x_0 - x_inf) * np.exp(-t/tau)\n",
    "plt.plot(t, x)\n",
    "plt.plot(t, x_theory)\n",
    "plt.xlabel(\"Time (ms)\")\n",
    "plt.ylabel(\"fraction open\")"
   ]
  },
  {
   "cell_type": "markdown",
   "id": "92988df8",
   "metadata": {},
   "source": [
    "Theoretical prediction: $x(t) = x_\\infty + (x_0 - x_\\infty) e^{-t/\\tau}$, with $x_0 = 0$ in this particular example because we start with all channels closed."
   ]
  },
  {
   "cell_type": "code",
   "execution_count": null,
   "id": "ec175ed6",
   "metadata": {},
   "outputs": [],
   "source": []
  }
 ],
 "metadata": {
  "kernelspec": {
   "display_name": "Python 3 (ipykernel)",
   "language": "python",
   "name": "python3"
  },
  "language_info": {
   "codemirror_mode": {
    "name": "ipython",
    "version": 3
   },
   "file_extension": ".py",
   "mimetype": "text/x-python",
   "name": "python",
   "nbconvert_exporter": "python",
   "pygments_lexer": "ipython3",
   "version": "3.11.2"
  }
 },
 "nbformat": 4,
 "nbformat_minor": 5
}
